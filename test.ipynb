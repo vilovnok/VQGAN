{
 "cells": [
  {
   "cell_type": "code",
   "execution_count": 3,
   "metadata": {},
   "outputs": [],
   "source": [
    "import torch\n",
    "from utils import UpSampleBlock\n",
    "\n",
    "\n",
    "def test_upsample_block():\n",
    "    batch_size = 2\n",
    "    channels = 64\n",
    "    height, width = 16, 16\n",
    "\n",
    "    x = torch.randn(batch_size, channels, height, width)\n",
    "\n",
    "    block = UpSampleBlock(channels)\n",
    "    \n",
    "    out = block(x)\n",
    "\n",
    "    print(f\"Input shape: {x.shape}\")\n",
    "    print(f\"Output shape: {out.shape}\")\n"
   ]
  },
  {
   "cell_type": "code",
   "execution_count": 4,
   "metadata": {},
   "outputs": [
    {
     "name": "stdout",
     "output_type": "stream",
     "text": [
      "Input shape: torch.Size([2, 64, 16, 16])\n",
      "Output shape: torch.Size([2, 64, 32, 32])\n"
     ]
    }
   ],
   "source": [
    "test_upsample_block()"
   ]
  }
 ],
 "metadata": {
  "kernelspec": {
   "display_name": "ml",
   "language": "python",
   "name": "python3"
  },
  "language_info": {
   "codemirror_mode": {
    "name": "ipython",
    "version": 3
   },
   "file_extension": ".py",
   "mimetype": "text/x-python",
   "name": "python",
   "nbconvert_exporter": "python",
   "pygments_lexer": "ipython3",
   "version": "3.9.18"
  }
 },
 "nbformat": 4,
 "nbformat_minor": 2
}
